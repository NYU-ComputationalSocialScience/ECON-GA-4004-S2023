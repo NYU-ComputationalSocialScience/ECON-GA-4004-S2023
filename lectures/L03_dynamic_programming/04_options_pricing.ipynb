{
 "cells": [
  {
   "cell_type": "markdown",
   "metadata": {
    "slideshow": {
     "slide_type": "slide"
    }
   },
   "source": [
    "# Options Pricing"
   ]
  },
  {
   "cell_type": "code",
   "execution_count": null,
   "metadata": {
    "slideshow": {
     "slide_type": "-"
    }
   },
   "outputs": [],
   "source": [
    "import matplotlib.pyplot as plt\n",
    "import numpy as np\n",
    "import scipy as sp\n",
    "import scipy.interpolate as interp\n",
    "import scipy.stats as st\n",
    "\n",
    "%matplotlib inline"
   ]
  },
  {
   "cell_type": "markdown",
   "metadata": {
    "slideshow": {
     "slide_type": "slide"
    }
   },
   "source": [
    "## Options\n",
    "\n",
    "An option is a financial derivatives that give buyers the right, *but not the obligation*, to buy or sell an underlying asset at an agreed-upon price and date.\n",
    "\n",
    "An option is defined by:\n",
    "\n",
    "* A strike price, $K$: This is the price at which an individual is allowed to buy/sell the asset\n",
    "* Expiry date, $T$: The amount of time until the option expires and can no longer be exercised\n",
    "\n",
    "A *call option* is an agreement in which the purchaser of the option is allowed to purchase the stock at the strike price\n",
    "\n",
    "A *put option* is an agreement in which the purchaser of the option is allowed to sell the stock at the strike price\n",
    "\n",
    "**Disclaimer**: The approach taken in this lecture is simplified but more complex versions of what we explore are used by financial professionals.\n"
   ]
  },
  {
   "cell_type": "markdown",
   "metadata": {
    "slideshow": {
     "slide_type": "subslide"
    }
   },
   "source": [
    "\n",
    "**Two \"styles\" of options**\n",
    "\n",
    "* European: European options can only be exercised at the expiration date $T$.\n",
    "* American: American options allow one to exercise the option at any moment up to, and including, $T$.\n"
   ]
  },
  {
   "cell_type": "markdown",
   "metadata": {
    "slideshow": {
     "slide_type": "fragment"
    }
   },
   "source": [
    "How much will a call option be worth if the stock price is above the strike price?\n",
    "\n",
    "It is worth the difference between the expiry stock price and the strike price because one could exercised and then sold at market value."
   ]
  },
  {
   "cell_type": "markdown",
   "metadata": {
    "slideshow": {
     "slide_type": "fragment"
    }
   },
   "source": [
    "How much will a call option be worth if the stock price is below the strike price?\n",
    "\n",
    "It is worth 0 at expiry because no one would choose to exercise at that price."
   ]
  },
  {
   "cell_type": "markdown",
   "metadata": {
    "slideshow": {
     "slide_type": "slide"
    }
   },
   "source": [
    "## Pricing an option\n",
    "\n",
    "Let $S_t$ denote the price of the stock at period $t$. We assume that the stock price follows,\n",
    "\n",
    "\\begin{align*}\n",
    "  \\log \\frac{S_{t+1}}{S_{t}} &\\sim N(0, \\sigma)\n",
    "\\end{align*}\n",
    "\n",
    "i.e.\n",
    "\n",
    "\\begin{align*}\n",
    "  \\log S_{t+1} &= \\log S_t + \\sigma \\varepsilon \\\\\n",
    "  \\sigma &\\sim N(0, 1)\n",
    "\\end{align*}\n",
    "\n",
    "There is a risk-free rate of $r$ which provides an \"outside option\" and is used to discount future cash flows -- i.e. receiving $S_T - K$ in period is only worth $\\left( \\frac{1}{1+r} \\right)^T (S_T - K)$"
   ]
  },
  {
   "cell_type": "code",
   "execution_count": null,
   "metadata": {},
   "outputs": [],
   "source": [
    "# Parameters\n",
    "log_S0 = 0.0  # S0 = 1\n",
    "sigma = 0.015\n",
    "T = 24  # time period of 2 years\n",
    "K = 1.05  # Strike price of 1.05\n",
    "\n",
    "# Annualized interest rate of 2.5%\n",
    "r = (1 + 0.025)**(1/12) - 1"
   ]
  },
  {
   "cell_type": "code",
   "execution_count": null,
   "metadata": {
    "slideshow": {
     "slide_type": "fragment"
    }
   },
   "outputs": [],
   "source": [
    "def simulate_stock_price(log_S0, sigma, T):\n",
    "    # Can generate a rw by using cumulative sum of random draws\n",
    "    log_St = log_S0 + np.cumsum(sigma*np.random.randn(T))\n",
    "\n",
    "    return np.exp(log_St)"
   ]
  },
  {
   "cell_type": "code",
   "execution_count": null,
   "metadata": {
    "slideshow": {
     "slide_type": "-"
    }
   },
   "outputs": [],
   "source": [
    "fig, ax = plt.subplots()\n",
    "\n",
    "for i in range(1_500):\n",
    "    ax.plot(simulate_stock_price(log_S0, sigma, T), alpha=0.025, color=\"g\")\n",
    "\n",
    "# zorder ensures that the black dotted line is on top\n",
    "ax.hlines(K, 0, T, color=\"k\", linestyle=\"--\", zorder=1_000_000)"
   ]
  },
  {
   "cell_type": "markdown",
   "metadata": {
    "slideshow": {
     "slide_type": "slide"
    }
   },
   "source": [
    "## Pricing a European option\n",
    "\n",
    "A European call option will only be exercised if $S_T > K$ thus the value of a European option is given by\n",
    "\n",
    "\\begin{align*}\n",
    "  V(S_0) &= \\left( \\frac{1}{1+r} \\right)^T E \\left[\\max\\{0, S_T - K\\}\\right] \\\\\n",
    "  &= \\left( \\frac{1}{1+r} \\right)^T \\left((\\text{Prob}(S_T < K) 0 + \\text{Prob}(S_T \\geq K) E[ S_T - K | S_T > K] \\right)\n",
    "\\end{align*}"
   ]
  },
  {
   "cell_type": "markdown",
   "metadata": {
    "slideshow": {
     "slide_type": "subslide"
    }
   },
   "source": [
    "### Pricing it numerically\n",
    "\n",
    "We can simulate the outcome of prices which means that we can compute the equation above"
   ]
  },
  {
   "cell_type": "code",
   "execution_count": null,
   "metadata": {
    "slideshow": {
     "slide_type": "-"
    }
   },
   "outputs": [],
   "source": [
    "S_T_numerical = np.array(\n",
    "    [simulate_stock_price(log_S0, sigma, T)[-1] for n in range(10_000)]\n",
    ")\n",
    "\n",
    "european_price_numerical = np.mean((1 / (1 + r)**T) * np.maximum(0, S_T_numerical - K))\n",
    "print(european_price_numerical)"
   ]
  },
  {
   "cell_type": "markdown",
   "metadata": {
    "slideshow": {
     "slide_type": "subslide"
    }
   },
   "source": [
    "### A little knowledge of log-normal random variables...\n",
    "\n",
    "We may have turned to numerical methods more quickly than needed -- This particular framework allows us to price things analytically:\n",
    "\n",
    "Note that we can express the price in period $T$ as\n",
    "\n",
    "\\begin{align*}\n",
    "  \\log S_T &= \\log S_0 + \\sum \\sigma \\varepsilon \\\\\n",
    "  &= \\log S_0 + \\sigma \\sqrt{T} \\tilde{\\varepsilon}\n",
    "\\end{align*}\n"
   ]
  },
  {
   "cell_type": "markdown",
   "metadata": {
    "slideshow": {
     "slide_type": "fragment"
    }
   },
   "source": [
    "We are interested in\n",
    "\n",
    "\\begin{align*}\n",
    "  V_0 &= \\left( \\frac{1}{1+r} \\right)^T \\left((\\text{Prob}(S_T < K) 0 + \\text{Prob}(S_T \\geq K) E[ S_T - K | S_T > K] \\right) \\\\\n",
    "  &= \\left( \\frac{1}{1+r} \\right)^T \\text{Prob}(S_T \\geq K) E[ S_T - K | S_T > K] \\\\\n",
    "  &= \\left( \\frac{1}{1+r} \\right)^T (1 - \\text{Prob}(S_T < K)) E[ S_T - K | S_T > K] \\\\\n",
    "  &= \\left( \\frac{1}{1+r} \\right)^T (1 - \\text{Prob}(S_T < K)) \\exp\\left\\{\\log S_0 + \\frac{\\sigma^2 T}{2} \\right\\} \\frac{\\Phi\\left[\\frac{\\log S_0 + \\sigma^2 T - \\log(K)}{\\sigma \\sqrt{T}}\\right]}{1 - \\Phi\\left[ \\frac{\\log K - \\log S_0}{\\sigma \\sqrt{T}} \\right]}\\\\\n",
    "\\end{align*}\n",
    "\n",
    "See the section on [Conditional Expectations of log-normal random variables](https://en.wikipedia.org/wiki/Log-normal_distribution#Conditional_expectation) for the derivation"
   ]
  },
  {
   "cell_type": "code",
   "execution_count": null,
   "metadata": {
    "slideshow": {
     "slide_type": "-"
    }
   },
   "outputs": [],
   "source": [
    "d_ST = st.lognorm(scale=np.exp(log_S0), s=sigma*np.sqrt(T))\n",
    "d_sn = st.norm()\n",
    "mu = log_S0\n",
    "sig = sigma*np.sqrt(T)\n",
    "\n",
    "p1 = 1 / (1 + r)**T\n",
    "p2 = 1 - d_ST.cdf(K)\n",
    "p3 = np.exp(mu + sig**2/2)\n",
    "p3n = d_sn.cdf((mu + sig**2 - np.log(K)) / sig)\n",
    "p3d = 1 - d_sn.cdf((np.log(K) - mu) / sig)\n",
    "\n",
    "european_price_analytical = p1 * p2 * (p3 * p3n/p3d - K)"
   ]
  },
  {
   "cell_type": "markdown",
   "metadata": {
    "slideshow": {
     "slide_type": "subslide"
    }
   },
   "source": [
    "**Comparing numerical and analytical solutions**"
   ]
  },
  {
   "cell_type": "code",
   "execution_count": null,
   "metadata": {
    "slideshow": {
     "slide_type": "-"
    }
   },
   "outputs": [],
   "source": [
    "print(\"Analytical price is: \", european_price_analytical)\n",
    "print(\"Numerical price is: \", european_price_numerical)"
   ]
  },
  {
   "cell_type": "markdown",
   "metadata": {
    "slideshow": {
     "slide_type": "slide"
    }
   },
   "source": [
    "## Pricing an American option\n",
    "\n",
    "An American option can be exercised at any point in time prior to expiration.\n",
    "\n",
    "In the worse case, one could treat an American option as if it were a European option, but one also gets the benefit of being able to exercise prior to expiration. This means that an equally specified American option should cost *no less* than a European option.\n",
    "\n",
    "Would we be willing to pay more?"
   ]
  },
  {
   "cell_type": "markdown",
   "metadata": {
    "slideshow": {
     "slide_type": "subslide"
    }
   },
   "source": [
    "### Dynamic programming to price an American option\n",
    "\n",
    "Let $V_t(S_t)$ denote the value of owning an American option with strike price $K$, time to expiration $T - t$, and current stock price $S_t$.\n",
    "\n",
    "How would we express this value mathematically?"
   ]
  },
  {
   "cell_type": "markdown",
   "metadata": {
    "slideshow": {
     "slide_type": "fragment"
    }
   },
   "source": [
    "- Until after we exercise the option, we always can choose to exercise in the current period and collect $S_t - K$.\n",
    "- Until we exercise the option and prior to expiration, we can choose to wait and see what the price is tomorrow.\n",
    "- At expiry, it has the same value as the European option -- $\\max \\{0, S_t - K\\}$\n",
    "\n",
    "This type of problem is known as an \"optimal stopping problem\". We must choose a point at which to \"stop\" and find out more. Other problems that fit into this framework:\n",
    "\n",
    "* Capital acquisition for factories\n",
    "* Portfolio balancing\n",
    "* Search theory\n",
    "* [A problem that stumped Milton Friedman](https://python.quantecon.org/wald_friedman.html)"
   ]
  },
  {
   "cell_type": "markdown",
   "metadata": {
    "slideshow": {
     "slide_type": "fragment"
    }
   },
   "source": [
    "**Bellman equation**\n",
    "\n",
    "All dynamic programs should have a Bellman equation! This will look slightly different than our infinite horizon cake-eating problem because there's a fixed amount of time in which the option can be exercised.\n",
    "\n",
    "\\begin{align*}\n",
    "  V_t(S_t) &= \\max_{\\text{N}, \\text{Y}} \\{0 + \\frac{1}{1 + r} E[V_{t+1}(S_{t+1})], S_t - K\\}\n",
    "\\end{align*}"
   ]
  },
  {
   "cell_type": "markdown",
   "metadata": {
    "slideshow": {
     "slide_type": "subslide"
    }
   },
   "source": [
    "**Solution via value function iteration**\n",
    "\n",
    "We solve this Bellman equation using a form value function iteration!\n",
    "\n",
    "This is slightly different because we're not necessarily looking for a fixed point -- We instead have a terminal condition, $V_T(S_T) = \\max\\{0, S_T - K\\}$, and we are just iterating backwards to find $V_0$."
   ]
  },
  {
   "cell_type": "code",
   "execution_count": null,
   "metadata": {
    "slideshow": {
     "slide_type": "-"
    }
   },
   "outputs": [],
   "source": [
    "class CallOptionPricer(object):\n",
    "    \"\"\"\n",
    "    Helps compute European and American call option prices\n",
    "    \"\"\"\n",
    "    def __init__(self, log_S0, sigma, K, T, r):\n",
    "        self.log_S0 = log_S0\n",
    "        self.S0 = np.exp(log_S0)\n",
    "        self.sigma = sigma\n",
    "        self.K = K\n",
    "        self.T = T\n",
    "        self.r = r\n",
    "\n",
    "    def european_price(self):\n",
    "        \"Computes the European call option price\"\n",
    "        # Unpack useful variables\n",
    "        log_S0, S0 = self.log_S0, self.S0\n",
    "        sigma = self.sigma\n",
    "        K, T, r = self.K, self.T, self.r\n",
    "\n",
    "        # Build useful random variables\n",
    "        _mu = log_S0\n",
    "        _sig = sigma*np.sqrt(T)\n",
    "        d_ST = st.lognorm(scale=S0, s=_sig)\n",
    "        d_sn = st.norm()\n",
    "\n",
    "        p1 = 1 / (1 + r)**T\n",
    "        p2 = 1 - d_ST.cdf(K)\n",
    "        p3 = np.exp(_mu + _sig**2/2)\n",
    "        p3n = d_sn.cdf((_mu + _sig**2 - np.log(K)) / _sig)\n",
    "        p3d = 1 - d_sn.cdf((np.log(K) - _mu) / _sig)\n",
    "\n",
    "        return p1 * p2 * (p3 * p3n/p3d - K)\n",
    "\n",
    "    def american_price(self, nS=51):\n",
    "        \"Computes the American call option price\"\n",
    "        # Unpack useful variables\n",
    "        log_S0, S0 = self.log_S0, self.S0\n",
    "        sigma = self.sigma\n",
    "        K, T, r = self.K, self.T, self.r\n",
    "        _mu = log_S0\n",
    "        _sig = sigma*np.sqrt(T)\n",
    "\n",
    "        # Build a grid that we'll iterate on\n",
    "        logSgrid = np.linspace(log_S0-2.5*_sig, log_S0+2.5*_sig, nS)\n",
    "        a_t = np.zeros((T, nS))\n",
    "        V_t = np.zeros((T, nS))\n",
    "\n",
    "        # Compute the terminal condition\n",
    "        V_t[-1, :] = np.maximum(0, np.exp(logSgrid) - K)\n",
    "\n",
    "        # Iterate over time periods\n",
    "        for t in range(T-1, -1, -1):\n",
    "            V_tp1 = interp.interp1d(\n",
    "                logSgrid, V_t[t, :],\n",
    "                fill_value=\"extrapolate\"\n",
    "            )\n",
    "\n",
    "            # Iterate over the states\n",
    "            for (i, log_St) in enumerate(logSgrid):\n",
    "                S_t = np.exp(log_St)\n",
    "                log_Stp1 = log_St + sigma*np.random.randn(50_000)\n",
    "                EV_tp1 = np.mean(V_tp1(log_Stp1))\n",
    "\n",
    "                # Value of exercising\n",
    "                V_exercise = S_t - K\n",
    "                V_defer = 0 + (1 / (1+r)) * EV_tp1\n",
    "\n",
    "                a_t[t-1, i] = 0 if V_defer >= V_exercise else 1\n",
    "                V_t[t-1, i] = np.maximum(V_exercise, V_defer)\n",
    "\n",
    "        # Compute the American price V_0(S_0)\n",
    "        V_0 = interp.interp1d(logSgrid, V_t[0, :])\n",
    "        american_price = V_0(log_S0)*1\n",
    "\n",
    "        return a_t, V_t, logSgrid, american_price\n"
   ]
  },
  {
   "cell_type": "markdown",
   "metadata": {
    "slideshow": {
     "slide_type": "subslide"
    }
   },
   "source": [
    "**Results**"
   ]
  },
  {
   "cell_type": "code",
   "execution_count": null,
   "metadata": {
    "slideshow": {
     "slide_type": "-"
    }
   },
   "outputs": [],
   "source": [
    "cop = CallOptionPricer(log_S0, sigma, K, T, r)"
   ]
  },
  {
   "cell_type": "code",
   "execution_count": null,
   "metadata": {
    "slideshow": {
     "slide_type": "-"
    }
   },
   "outputs": [],
   "source": [
    "print(\"The European price is: \", cop.european_price())"
   ]
  },
  {
   "cell_type": "code",
   "execution_count": null,
   "metadata": {
    "slideshow": {
     "slide_type": "-"
    }
   },
   "outputs": [],
   "source": [
    "a_t, V_t, logSgrid, american_price = cop.american_price(nS=151)\n",
    "print(\"The American price is: \", american_price)"
   ]
  },
  {
   "cell_type": "code",
   "execution_count": null,
   "metadata": {
    "slideshow": {
     "slide_type": "-"
    }
   },
   "outputs": [],
   "source": [
    "fig, ax = plt.subplots(subplot_kw={\"projection\": \"3d\"})\n",
    "\n",
    "# Make data.\n",
    "Svals = np.exp(logSgrid)\n",
    "Tvals = np.arange(0, T)\n",
    "SS, TT = np.meshgrid(Svals, Tvals)\n",
    "\n",
    "VV = np.zeros_like(SS)\n",
    "for t in Tvals:\n",
    "    V_interp = interp.interp1d(logSgrid, V_t[t, :])\n",
    "    VV[t, :] = V_interp(logSgrid)\n",
    "\n",
    "# Plot the surface.\n",
    "surf = ax.plot_surface(\n",
    "    SS, TT, VV, cmap=\"viridis\",\n",
    "    linewidth=0, antialiased=False,\n",
    ")\n",
    "\n",
    "ax.view_init(elev=10., azim=240)\n",
    "\n",
    "ax.set_xlabel(\"S_t\")\n",
    "ax.set_ylabel(\"t\")\n",
    "ax.set_title(\"American Option Prices\")"
   ]
  },
  {
   "cell_type": "code",
   "execution_count": null,
   "metadata": {},
   "outputs": [],
   "source": []
  },
  {
   "cell_type": "code",
   "execution_count": null,
   "metadata": {},
   "outputs": [],
   "source": [
    "fig, ax = plt.subplots()\n",
    "\n",
    "ax.pcolormesh(SS, TT, a_t, shading=\"nearest\")"
   ]
  }
 ],
 "metadata": {
  "celltoolbar": "Slideshow",
  "kernelspec": {
   "display_name": "Python 3",
   "language": "python",
   "name": "python3"
  },
  "language_info": {
   "codemirror_mode": {
    "name": "ipython",
    "version": 3
   },
   "file_extension": ".py",
   "mimetype": "text/x-python",
   "name": "python",
   "nbconvert_exporter": "python",
   "pygments_lexer": "ipython3",
   "version": "3.8.8"
  }
 },
 "nbformat": 4,
 "nbformat_minor": 4
}
