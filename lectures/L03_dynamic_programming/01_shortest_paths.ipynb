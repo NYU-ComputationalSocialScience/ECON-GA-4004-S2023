{
 "cells": [
  {
   "cell_type": "markdown",
   "metadata": {
    "slideshow": {
     "slide_type": "slide"
    }
   },
   "source": [
    "# Shortest Path Problem\n",
    "\n",
    "Some of this content came from the great [QuantEcon lecture on shortest path problems](https://python.quantecon.org/short_path.html)!"
   ]
  },
  {
   "cell_type": "code",
   "execution_count": null,
   "metadata": {
    "slideshow": {
     "slide_type": "-"
    }
   },
   "outputs": [],
   "source": [
    "import matplotlib.pyplot as plt\n",
    "import numpy as np\n",
    "\n",
    "%matplotlib inline"
   ]
  },
  {
   "cell_type": "markdown",
   "metadata": {
    "slideshow": {
     "slide_type": "slide"
    }
   },
   "source": [
    "## Problem Description\n",
    "\n",
    "The shortest path problem is one of finding how to traverse a [graph](https://en.wikipedia.org/wiki/Graph_%28mathematics%29) from one specified node to another at minimum cost.\n",
    "\n",
    "Consider the following graph\n",
    "\n",
    "<img src=\"https://s3-ap-southeast-2.amazonaws.com/python.quantecon.org/_static/lecture_specific/short_path/graph.png\" style=\"\">\n",
    "\n",
    "  \n",
    "We wish to travel from node (vertex) A to node G at minimum cost\n",
    "\n",
    "- Arrows (edges) indicate the movements we can take.  \n",
    "- Numbers on edges indicate the cost of traveling that edge.\n",
    "\n",
    "(Graphs such as the one above are called weighted [directed graphs](https://en.wikipedia.org/wiki/Directed_graph).)\n"
   ]
  },
  {
   "cell_type": "markdown",
   "metadata": {
    "slideshow": {
     "slide_type": "fragment"
    }
   },
   "source": [
    "### Notation\n",
    "\n",
    "First, we need some way to represent the actions that one can take at each node.\n",
    "\n",
    "Notationally, we will use $v$ to represent node $v$ and $c(v, w)$ to represent the cost of traveling from $v$ to $w$.\n",
    "\n",
    "For a given path $v \\rightarrow w \\rightarrow x$ the cost of that path would be given by $c(v, w) + c(w, x)$."
   ]
  },
  {
   "cell_type": "markdown",
   "metadata": {
    "slideshow": {
     "slide_type": "subslide"
    }
   },
   "source": [
    "### Finding the solution\n",
    "\n",
    "Stare at our baseline graph. How would you find the shortest path?\n",
    "\n",
    "<img src=\"https://s3-ap-southeast-2.amazonaws.com/python.quantecon.org/_static/lecture_specific/short_path/graph.png\" style=\"\">"
   ]
  },
  {
   "cell_type": "markdown",
   "metadata": {
    "slideshow": {
     "slide_type": "fragment"
    }
   },
   "source": [
    "If you are like me, the most straightforward way to find the solution for this graph is to traverse each of the possible paths and determine which is the shortest one.\n",
    "\n",
    "We will call this the \"brute force solution\""
   ]
  },
  {
   "cell_type": "markdown",
   "metadata": {
    "slideshow": {
     "slide_type": "fragment"
    }
   },
   "source": [
    "Two equal distance solutions:\n",
    "\n",
    "* $A \\rightarrow C \\rightarrow F \\rightarrow G$ costs 8\n",
    "* $A \\rightarrow D \\rightarrow F \\rightarrow G$ costs 8"
   ]
  },
  {
   "cell_type": "markdown",
   "metadata": {
    "slideshow": {
     "slide_type": "slide"
    }
   },
   "source": [
    "## Coding the brute force solution\n",
    "\n",
    "We proceed to code up the brute force solution."
   ]
  },
  {
   "cell_type": "markdown",
   "metadata": {
    "slideshow": {
     "slide_type": "subslide"
    }
   },
   "source": [
    "### Code to solve\n",
    "\n",
    "We will represent the graph inside of a class:"
   ]
  },
  {
   "cell_type": "code",
   "execution_count": null,
   "metadata": {
    "slideshow": {
     "slide_type": "-"
    }
   },
   "outputs": [],
   "source": [
    "class BruteForceShortestPath(object):\n",
    "    \"\"\"\n",
    "    Solves the shortest path problem using brute force\n",
    "    to traverse all available paths and then storing\n",
    "    any path that is equal to the minimum distance\n",
    "\n",
    "    Example\n",
    "    -------\n",
    "    \n",
    "    ```python\n",
    "    cost_dict = {\n",
    "        \"A\": {\"B\": 1, \"C\": 5},\n",
    "        \"B\": {\"D\": 9, \"E\": 6},\n",
    "        \"C\": {\"F\": 2},\n",
    "        \"D\": {\"F\": 4, \"G\": 8},\n",
    "        \"E\": {\"G\": 4},\n",
    "        \"F\": {\"G\": 1}\n",
    "    }\n",
    "    bfsp = BruteForceShortestPath(cost_dict, \"A\", \"G\")\n",
    "    \n",
    "    sol = bfsp.find_shortest_path()\n",
    "    ```\n",
    "    \"\"\"\n",
    "    def __init__(self, dag: dict, vertex: str, terminal: str):\n",
    "        self.dag = dag\n",
    "        self.vertex = vertex\n",
    "        self.terminal = terminal\n",
    "\n",
    "    def is_at_end(self, v):\n",
    "        \"Boolean denoting whether at the terminal node\"\n",
    "        return (v == self.terminal)\n",
    "\n",
    "    def available_actions(self, v):\n",
    "        \"Available actions at node v\"\n",
    "        if self.is_at_end(v):\n",
    "            return []\n",
    "        else:\n",
    "            return list(self.dag[v].keys())    \n",
    "\n",
    "    def evaluate_path(self, cpath):\n",
    "        \"Evaluates the cost of a given path\"\n",
    "        cost = sum(\n",
    "            [\n",
    "                self.dag[cpath[i]][cpath[i+1]]\n",
    "                for i in range(len(cpath) - 1)\n",
    "            ]\n",
    "        )\n",
    "\n",
    "        return cost\n",
    "\n",
    "    def step_back_path(self, cpath):\n",
    "        # Remove last element from the path\n",
    "        cpath = cpath[:-1]\n",
    "        cnode = cpath[-1]\n",
    "        \n",
    "        return cnode, cpath\n",
    "\n",
    "    def traverse_paths(self):\n",
    "        # Allocate dictionary to store costs of\n",
    "        # each path\n",
    "        paths_costs = {}\n",
    "\n",
    "        # Allocate another dictionary to store\n",
    "        # available paths to use for each node\n",
    "        available_actions = {\n",
    "            k: self.available_actions(k)\n",
    "            for k in self.dag.keys()\n",
    "        }\n",
    "\n",
    "        cnode = self.vertex\n",
    "        cpath = [cnode]\n",
    "        while len(cpath) > 0:\n",
    "\n",
    "            # Current set of actions -- This is\n",
    "            # a pointer to the list inside the\n",
    "            # dict so when we pop, it will remove\n",
    "            # items from the dict's list\n",
    "            cactions = available_actions[cnode]\n",
    "\n",
    "            # If we are at a terminal point, evaluate\n",
    "            # the cost of that path and save the output\n",
    "            # into the `paths_costs` dict then remove\n",
    "            # last element of the current path\n",
    "            if self.is_at_end(cnode):\n",
    "                # Evalute\n",
    "                cost = self.evaluate_path(cpath)\n",
    "                paths_costs[tuple(cpath)] = cost\n",
    "\n",
    "                # Don't need to reset actions because we are\n",
    "                # at the terminal node... Just step back\n",
    "                cnode, cpath = self.step_back_path(cpath)\n",
    "            elif (len(cactions) == 0) and (len(cpath) > 1):\n",
    "                # If we are going to step back, we should reset\n",
    "                # action space for that particular node\n",
    "                available_actions[cnode] = self.available_actions(cnode)\n",
    "\n",
    "                # Step back one level\n",
    "                cnode, cpath = self.step_back_path(cpath)\n",
    "\n",
    "            elif len(cactions) > 0:\n",
    "                caction = cactions.pop()\n",
    "\n",
    "                cnode = caction\n",
    "                cpath.append(caction)\n",
    "            else:\n",
    "                break\n",
    "        \n",
    "        return paths_costs\n",
    "\n",
    "    def find_shortest_paths(self):\n",
    "        paths_costs = self.traverse_paths()\n",
    "\n",
    "        min_cost = min(paths_costs.values())\n",
    "        \n",
    "        min_cost_paths = [\n",
    "            _path\n",
    "            for _path in paths_costs\n",
    "            if paths_costs[_path] <= min_cost\n",
    "        ]\n",
    "\n",
    "        return min_cost_paths"
   ]
  },
  {
   "cell_type": "markdown",
   "metadata": {
    "slideshow": {
     "slide_type": "subslide"
    }
   },
   "source": [
    "Let's use the code we wrote to compute the solution and see whether it matches what we found!"
   ]
  },
  {
   "cell_type": "code",
   "execution_count": null,
   "metadata": {
    "slideshow": {
     "slide_type": "-"
    }
   },
   "outputs": [],
   "source": [
    "simple_cost_dict = {\n",
    "    \"A\": {\"B\": 1, \"C\": 5, \"D\": 3},\n",
    "    \"B\": {\"D\": 9, \"E\": 6},\n",
    "    \"C\": {\"F\": 2},\n",
    "    \"D\": {\"F\": 4, \"G\": 8},\n",
    "    \"E\": {\"G\": 4},\n",
    "    \"F\": {\"G\": 1},\n",
    "    \"G\": {}\n",
    "}\n",
    "\n",
    "bfsp_simple = BruteForceShortestPath(simple_cost_dict, \"A\", \"G\")\n",
    "simple_paths = bfsp_simple.find_shortest_paths()\n",
    "print(simple_paths)"
   ]
  },
  {
   "cell_type": "markdown",
   "metadata": {
    "slideshow": {
     "slide_type": "subslide"
    }
   },
   "source": [
    "## Success!!!\n",
    "\n",
    "The code successfully found the two shortest paths that traverse our graph."
   ]
  },
  {
   "cell_type": "markdown",
   "metadata": {
    "slideshow": {
     "slide_type": "fragment"
    }
   },
   "source": [
    "Now imagine that due to the great success of our \"innovative\" algorithm that we received a contract to manage delivery paths for Delivery Inc, a large delivery company.\n",
    "\n",
    "When an order is placed, Delivery Inc finds the closest warehouse with the product and gives us a DAG that describes all routes that the product could travel for delivery, conditional on where the couriers are.\n",
    "\n",
    "Our \"proprietary\" algorithm is then responsible for finding the fastest delivery path."
   ]
  },
  {
   "cell_type": "markdown",
   "metadata": {
    "slideshow": {
     "slide_type": "subslide"
    }
   },
   "source": [
    "## Graph formats\n",
    "\n",
    "When an order is placed, the DAG that the conglomerate delivers is a text file with lines that take the following form:\n",
    "\n",
    "```\n",
    "node0, node1 0.04, node8 11.11, node14 72.21\n",
    "```\n",
    "\n",
    "Each line should be interpreted as:\n",
    "\n",
    "* This component of the path begins at `node0`\n",
    "* It can go to `node1`,  `node8` or `node14` and it takes `0.04` minutes, `11.11` minutes, or `72.21` minutes to get to those nodes, respectively.\n"
   ]
  },
  {
   "cell_type": "code",
   "execution_count": null,
   "metadata": {
    "slideshow": {
     "slide_type": "-"
    }
   },
   "outputs": [],
   "source": [
    "def generate_path_dict(filename):\n",
    "    \"\"\"\n",
    "    Takes the proprietary delivery format and converts it\n",
    "    into a dictionary that our algorithm can read\n",
    "    \"\"\"\n",
    "    with open(filename, \"r\") as f:\n",
    "        lines = f.readlines()\n",
    "\n",
    "    cost_dict = {}\n",
    "    for line in lines:\n",
    "        node_name, routes_str = map(\n",
    "            lambda x: x.strip(),\n",
    "            line.split(\",\", maxsplit=1)\n",
    "        )\n",
    "\n",
    "        if len(routes_str) == 0:\n",
    "            cost_dict[node_name] = {}\n",
    "        else:\n",
    "            possible_routes = routes_str.split(\", \")\n",
    "            route_dict = {}\n",
    "            for route in possible_routes:\n",
    "                _node, _cost = route.split(\" \")\n",
    "                route_dict[_node] = float(_cost)\n",
    "\n",
    "            cost_dict[node_name] = route_dict\n",
    "\n",
    "    return cost_dict"
   ]
  },
  {
   "cell_type": "markdown",
   "metadata": {
    "slideshow": {
     "slide_type": "subslide"
    }
   },
   "source": [
    "## The first order arrives\n"
   ]
  },
  {
   "cell_type": "code",
   "execution_count": null,
   "metadata": {
    "slideshow": {
     "slide_type": "-"
    }
   },
   "outputs": [],
   "source": [
    "del_inc_graph = generate_path_dict(\"graph.txt\")"
   ]
  },
  {
   "cell_type": "code",
   "execution_count": null,
   "metadata": {
    "slideshow": {
     "slide_type": "-"
    }
   },
   "outputs": [],
   "source": [
    "%%time\n",
    "bfsp = BruteForceShortestPath(del_inc_graph, \"node0\", \"node99\")\n",
    "\n",
    "fastest_path_bf = bfsp.find_shortest_paths()\n",
    "time_to_deliver_bf = bfsp.evaluate_path(fastest_path_bf[0])"
   ]
  },
  {
   "cell_type": "code",
   "execution_count": null,
   "metadata": {
    "slideshow": {
     "slide_type": "-"
    }
   },
   "outputs": [],
   "source": [
    "print(f\"The fastest path is:\\n {fastest_path_bf[0]}\")\n",
    "print(f\"The delivery takes {time_to_deliver_bf:.2f} minutes to deliver\")"
   ]
  },
  {
   "cell_type": "markdown",
   "metadata": {
    "slideshow": {
     "slide_type": "slide"
    }
   },
   "source": [
    "# Dynamic Programming: An efficient solution\n",
    "\n",
    "As time goes on, the delivery networks adds more and more possible routes and eventually makes is so that our algorithm takes longer to run than it actually takes to execute the delivery.\n",
    "\n",
    "Delivery Inc says that they'll manage their own deliveries unless we're able to produce a more effective solution."
   ]
  },
  {
   "cell_type": "markdown",
   "metadata": {
    "slideshow": {
     "slide_type": "subslide"
    }
   },
   "source": [
    "## An insight\n",
    "\n",
    "As we stare at the two solutions to our simple example, we realize that they both pass through $F$ and once the path reaches $F$ the cost is always 1.\n",
    "\n",
    "<img src=\"https://s3-ap-southeast-2.amazonaws.com/python.quantecon.org/_static/lecture_specific/short_path/graph4.png\" style=\"\">\n",
    "\n",
    "<img src=\"https://s3-ap-southeast-2.amazonaws.com/python.quantecon.org/_static/lecture_specific/short_path/graph3.png\" style=\"\">"
   ]
  },
  {
   "cell_type": "markdown",
   "metadata": {
    "slideshow": {
     "slide_type": "fragment"
    }
   },
   "source": [
    "What if we had a function, $J(v)$, that could tell us the minimum number of minutes it would take to move from node $v$ to the end.\n",
    "\n",
    "In our case, for example, we know that $J(F) = 1$ and $J(G) = 0$.\n",
    "\n",
    "If this function existed, the shortest path would just be a sequence of choices, $w^*$, where:\n",
    "\n",
    "$$w^* = \\arg \\min_{w \\in A(v)} c(v, w) + J(w)$$"
   ]
  },
  {
   "cell_type": "markdown",
   "metadata": {
    "slideshow": {
     "slide_type": "subslide"
    }
   },
   "source": [
    "## How to find $J(v)$?\n",
    "\n",
    "Let's begin by thinking about how $J(v)$ would be defined...\n",
    "\n",
    "$$J(v) = \\min_{w \\in A(v)} c(v, w) + J(w)$$\n",
    "\n",
    "This equation is known as the _Bellman equation_, after the mathematician Richard Bellman.\n",
    "\n",
    "You should think about the Bellman equation as a restriction that $J$ must satisfy."
   ]
  },
  {
   "cell_type": "markdown",
   "metadata": {
    "slideshow": {
     "slide_type": "fragment"
    }
   },
   "source": [
    "**Algorithm to find $J$**\n",
    "\n",
    "We won't talk today about exactly why the algorithm that we propose works today, but we may revisit this topic soon.\n",
    "\n",
    "1. Begin with some guess for $J(v)$ and denote it $J_0(v)$. One frequently used guess is $J_0(v) = 0$.\n",
    "2. Create a new guess $J_{n+1}(v) = \\min_{w \\in A(v)} c(v, w) + J_n(w)$ for all $v$.\n",
    "3. If $J_n(v) \\neq J_{n+1}(v)$ return to step 2. Otherwise, $J_n(v) = J_{n+1}(v) = J(v)$.\n",
    "\n",
    "We call this algorithm \"value function iteration\""
   ]
  },
  {
   "cell_type": "markdown",
   "metadata": {
    "slideshow": {
     "slide_type": "subslide"
    }
   },
   "source": [
    "### Code for value function iteration"
   ]
  },
  {
   "cell_type": "code",
   "execution_count": null,
   "metadata": {
    "slideshow": {
     "slide_type": "-"
    }
   },
   "outputs": [],
   "source": [
    "class DynamicProgrammingShortestPath(object):\n",
    "    \"\"\"\n",
    "    Solves the shortest path problem using dynamic\n",
    "    programming to find the value function and\n",
    "    corresponding optimal paths\n",
    "\n",
    "    Example\n",
    "    -------\n",
    "    \n",
    "    ```python\n",
    "    cost_dict = {\n",
    "        \"A\": {\"B\": 1, \"C\": 5},\n",
    "        \"B\": {\"D\": 9, \"E\": 6},\n",
    "        \"C\": {\"F\": 2},\n",
    "        \"D\": {\"F\": 4, \"G\": 8},\n",
    "        \"E\": {\"G\": 4},\n",
    "        \"F\": {\"G\": 1}\n",
    "    }\n",
    "    dpsp = DynamicProgrammingShortestPath(cost_dict, \"A\", \"G\")\n",
    "    \n",
    "    sol = dpsp.find_shortest_path()\n",
    "    ```\n",
    "    \"\"\"\n",
    "    def __init__(self, dag: dict, vertex: str, terminal: str):\n",
    "        self.dag = dag\n",
    "        self.vertex = vertex\n",
    "        self.terminal = terminal\n",
    "\n",
    "    def is_at_end(self, v):\n",
    "        \"Boolean denoting whether at the terminal node\"\n",
    "        return True if v == self.terminal else False\n",
    "\n",
    "    def available_actions(self, v):\n",
    "        \"Available actions at node v\"\n",
    "        if self.is_at_end(v):\n",
    "            return []\n",
    "        else:\n",
    "            return list(self.dag[v].keys())    \n",
    "\n",
    "    def evaluate_path(self, cpath):\n",
    "        \"Evaluates the cost of a given path\"\n",
    "        cost = sum(\n",
    "            [\n",
    "                self.dag[cpath[i]][cpath[i+1]]\n",
    "                for i in range(len(cpath) - 1)\n",
    "            ]\n",
    "        )\n",
    "\n",
    "        return cost\n",
    "\n",
    "    def compare_J(self, Jn, Jnp1):\n",
    "        return max([abs(Jn[k]-Jnp1[k]) for k in self.dag.keys()])\n",
    "\n",
    "    def eval_action(self, v, w, J):\n",
    "        return self.dag[v][w] + J[w]\n",
    "\n",
    "    def bellman_equation(self, v, J):\n",
    "\n",
    "        if v == self.terminal:\n",
    "            return 0\n",
    "\n",
    "        # Actions that can be taken at node v\n",
    "        actions = self.available_actions(v)\n",
    "\n",
    "        # Bellman equation one step\n",
    "        J_np1 = {}\n",
    "        for w in actions:\n",
    "            J_np1[w] = self.eval_action(v, w, J)\n",
    "        min_J_np1 = min(J_np1.values())\n",
    "\n",
    "        return min_J_np1\n",
    "\n",
    "    def find_cost_function(self):\n",
    "\n",
    "        # All possible nodes\n",
    "        nodes = self.dag.keys()\n",
    "\n",
    "        # Initial guess\n",
    "        J_n = {v: 100 for v in nodes}\n",
    "        J_np1 = {v: 0 for v in nodes}\n",
    "\n",
    "        while self.compare_J(J_n, J_np1) > 1e-10:\n",
    "            # Copy from J_{n+1} to J_{n}\n",
    "            J_n.update(J_np1)\n",
    "\n",
    "            for node in nodes:\n",
    "                J_np1[node] = self.bellman_equation(node, J_n)\n",
    "\n",
    "        return J_np1\n",
    "\n",
    "    def find_shortest_path(self, J):\n",
    "\n",
    "        cnode = self.vertex\n",
    "        cpath = [cnode]\n",
    "        while not self.is_at_end(cnode):\n",
    "            # Actions that can be taken at node v\n",
    "            actions = self.available_actions(cnode)\n",
    "\n",
    "            # Find optimal action according to J\n",
    "            optimal_action = actions[0]\n",
    "            min_cost = 1e10\n",
    "            for w in actions:\n",
    "                J_v = self.eval_action(cnode, w, J)\n",
    "                if J_v < min_cost:\n",
    "                    optimal_action = w\n",
    "                    min_cost = J_v\n",
    "\n",
    "            cnode = optimal_action\n",
    "            cpath.append(cnode)\n",
    "                \n",
    "        return tuple(cpath)"
   ]
  },
  {
   "cell_type": "markdown",
   "metadata": {
    "slideshow": {
     "slide_type": "subslide"
    }
   },
   "source": [
    "### Verify on the simple graph\n",
    "\n",
    "<img src=\"https://s3-ap-southeast-2.amazonaws.com/python.quantecon.org/_static/lecture_specific/short_path/graph4.png\" style=\"\">"
   ]
  },
  {
   "cell_type": "code",
   "execution_count": null,
   "metadata": {
    "slideshow": {
     "slide_type": "-"
    }
   },
   "outputs": [],
   "source": [
    "dpsp = DynamicProgrammingShortestPath(\n",
    "    simple_cost_dict, \"A\", \"G\"\n",
    ")\n",
    "\n",
    "Jstar = dpsp.find_cost_function()\n",
    "shortest_path_simple_dp = dpsp.find_shortest_path(Jstar)\n",
    "cost_simple_dp = dpsp.evaluate_path(shortest_path_simple_dp)\n",
    "\n",
    "print(shortest_path_simple_dp)\n",
    "print(cost_simple_dp)"
   ]
  },
  {
   "cell_type": "markdown",
   "metadata": {
    "slideshow": {
     "slide_type": "subslide"
    }
   },
   "source": [
    "## How long to solve the Delivery Inc's problem?\n",
    "\n",
    "Does our new algorithm perform better than the previous one?\n",
    "\n",
    "As a benchmark, the brute force algorithm required between 5 and 6 seconds on my computer..."
   ]
  },
  {
   "cell_type": "code",
   "execution_count": null,
   "metadata": {
    "slideshow": {
     "slide_type": "-"
    }
   },
   "outputs": [],
   "source": [
    "%%time\n",
    "\n",
    "dpsp = DynamicProgrammingShortestPath(\n",
    "    del_inc_graph, \"node0\", \"node99\"\n",
    ")\n",
    "\n",
    "Jstar_dp = dpsp.find_cost_function()\n",
    "fastest_path_dp = dpsp.find_shortest_path(Jstar_dp)\n",
    "time_to_deliver_dp = dpsp.evaluate_path(fastest_path_dp)"
   ]
  },
  {
   "cell_type": "markdown",
   "metadata": {
    "slideshow": {
     "slide_type": "-"
    }
   },
   "source": [
    "The dynamic programing algorithm only required about 7 ms on my computer -- This is almost a 1000x speedup!\n",
    "\n",
    "Below, we confirm that it arrived at the same solution."
   ]
  },
  {
   "cell_type": "code",
   "execution_count": null,
   "metadata": {
    "slideshow": {
     "slide_type": "-"
    }
   },
   "outputs": [],
   "source": [
    "print(f\"The fastest path is:\\n {fastest_path_dp}\")\n",
    "print(f\"The delivery takes {time_to_deliver_dp:.2f} minutes to deliver\")"
   ]
  },
  {
   "cell_type": "markdown",
   "metadata": {
    "slideshow": {
     "slide_type": "slide"
    }
   },
   "source": [
    "# Conclusion\n",
    "\n",
    "Dynamic programming provides a recursive way to solve problems that initially seem like they should be solved sequentially.\n",
    "\n",
    "Additionally, the innovations that have been made over the last 50+ years in dynamic programming have set the stage for reinforcement learning. A deep understanding of reinforcement learning begins with an understanding of dynamic programming."
   ]
  },
  {
   "cell_type": "markdown",
   "metadata": {
    "slideshow": {
     "slide_type": "slide"
    }
   },
   "source": [
    "## Some shortest path humor...\n",
    "\n",
    "<img src=\"https://imgs.xkcd.com/comics/travelling_salesman_problem.png\">\n",
    "\n",
    "Attribution: [xkcd](https://xkcd.com/399/)"
   ]
  }
 ],
 "metadata": {
  "celltoolbar": "Slideshow",
  "kernelspec": {
   "display_name": "Python 3",
   "language": "python",
   "name": "python3"
  },
  "language_info": {
   "codemirror_mode": {
    "name": "ipython",
    "version": 3
   },
   "file_extension": ".py",
   "mimetype": "text/x-python",
   "name": "python",
   "nbconvert_exporter": "python",
   "pygments_lexer": "ipython3",
   "version": "3.8.8"
  }
 },
 "nbformat": 4,
 "nbformat_minor": 4
}
