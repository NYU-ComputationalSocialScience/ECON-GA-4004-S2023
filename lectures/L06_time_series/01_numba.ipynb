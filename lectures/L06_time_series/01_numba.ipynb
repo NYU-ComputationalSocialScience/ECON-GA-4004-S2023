{
 "cells": [
  {
   "cell_type": "markdown",
   "id": "263cb978",
   "metadata": {
    "slideshow": {
     "slide_type": "slide"
    }
   },
   "source": [
    "# Numba\n",
    "\n",
    "Pieces of this lecture were taken from the [QuantEcon lecture on Numba](https://python-programming.quantecon.org/numba.html).\n",
    "\n",
    "If you'd like to know more about these tools, we recommend reading the QuantEcon lecture and the (very good) [Numba documentation](https://numba.readthedocs.io/en/stable/index.html#)"
   ]
  },
  {
   "cell_type": "code",
   "execution_count": null,
   "id": "5caeaf03",
   "metadata": {
    "slideshow": {
     "slide_type": "-"
    }
   },
   "outputs": [],
   "source": [
    "import numba\n",
    "import numpy as np\n",
    "import pandas as pd"
   ]
  },
  {
   "cell_type": "markdown",
   "id": "f855568a",
   "metadata": {
    "slideshow": {
     "slide_type": "slide"
    }
   },
   "source": [
    "## Compiled vs Interpreted\n",
    "\n",
    "You may have heard about the differences between \"compiled programming languages\" and \"interpreted programming languages\"\n",
    "\n",
    "* A compiled language is run in a few steps:\n",
    "  1. Programmer writes the code\n",
    "  2. Compiler converts that code into machine code\n",
    "  3. Computer runs machine code. Note that once the code is compiled, it can be run whenever one wants without the compilation step\n",
    "* An interpreted language runs code differently:\n",
    "  1. Programmer writes code\n",
    "  2. Computer \"runs\" the code by\n",
    "    * An \"interpreter\" reads the code line-by-line\n",
    "    * For each line, the interpreter figures out what the inputs are and tries to convert it to machine code\n",
    "    * Computer runs the machine code"
   ]
  },
  {
   "cell_type": "markdown",
   "id": "c2e64014",
   "metadata": {
    "slideshow": {
     "slide_type": "subslide"
    }
   },
   "source": [
    "**Pros and cons of compiled**\n",
    "\n",
    "* Once the compiler has run, the code is already machine code and runs very fast (as fast as possible given the code you wrote)\n",
    "* For very large programs, compilation requires the upfront cost of compilation which can take minutes/hours\n",
    "* Compiled programs can only be shared within similar hardware architecture and operating systems (though as long as there's a compiler for the hardware/OS, one could recompile the code)"
   ]
  },
  {
   "cell_type": "markdown",
   "id": "284d0295",
   "metadata": {
    "slideshow": {
     "slide_type": "subslide"
    }
   },
   "source": [
    "**Pros and cons of interpreted**\n",
    "\n",
    "* As long as there is an interpreter for the hardware/operating system, interpreted code can be easily shared\n",
    "* Significantly slower than compiled code because of the back and forth to read the code line-by-line (which has to be redone each time the code is run!)\n",
    "* Easier to interact with your code (and more importantly, your data!) because you can run one line at a time"
   ]
  },
  {
   "cell_type": "markdown",
   "id": "1f2d6ccd",
   "metadata": {
    "slideshow": {
     "slide_type": "slide"
    }
   },
   "source": [
    "## Just-in-time compiled (JIT)\n",
    "\n",
    "JIT is a relatively modern development which has the goal of bridging some of the gaps between compiled and interpreted.\n",
    "\n",
    "Rather than compile the code ahead of time or interpreting line-by-line, JIT compiles small chunks of the code right before it runs them.\n",
    "\n",
    "For example, imagine that we have a function `mc_approximate_pi` that approximates the value of pi using Monte-carlo methods... We might even want to run this function multiple times to average across the approximations. The way JIT works is,\n",
    "\n",
    "1. Check the input types to the function\n",
    "2. The first time it sees particular types of inputs to the function, it compiles the function assuming those types as inputs and stores this compiled code\n",
    "3. The computer then runs the function using the compiled code -- If it has seen these inputs before, it can jump directly to this step."
   ]
  },
  {
   "cell_type": "markdown",
   "id": "6daad0d9",
   "metadata": {
    "slideshow": {
     "slide_type": "subslide"
    }
   },
   "source": [
    "### Our favorite JIT tools\n",
    "\n",
    "* `Numba`: [Numba](https://numba.pydata.org/) is a package built for Python that adds JIT compilation capabilities for a subset of the Python programming languages -- The priority has been tools for scientific computing `numpy` etc... The main drawback is that only certain packages work with JIT.\n",
    "* `Julia`: [Julia](https://julialang.org/) is an exciting new language that is based entirely around JIT compilation. The fact that the language is built around JIT means that all packages interact nicely with one another while maintaining their JIT capabilities."
   ]
  },
  {
   "cell_type": "markdown",
   "id": "61672c4a",
   "metadata": {
    "slideshow": {
     "slide_type": "subslide"
    }
   },
   "source": [
    "### Numba\n",
    "\n",
    "As mentioned, Numba is a Python package that adds JIT compilation to a subset of the language using the LLVM compiler library\n"
   ]
  },
  {
   "cell_type": "markdown",
   "id": "f7a0ac12",
   "metadata": {
    "slideshow": {
     "slide_type": "fragment"
    }
   },
   "source": [
    "What works within Numba?\n",
    "\n",
    "* Many Python objects. including: lists, tuples, dictionaries, integers, floats, strings\n",
    "* Python logic, including: `if.. elif.. else`, `while`, `for .. in`, `break`, `continue`\n",
    "* NumPy arrays\n",
    "* Many (but not all!) NumPy functions\n",
    "\n",
    "For more information, read these sections from the documentation\n",
    "\n",
    "* [Supported Python features](https://numba.readthedocs.io/en/stable/reference/pysupported.html)\n",
    "* [Supported NumPy  features](https://numba.readthedocs.io/en/stable/reference/numpysupported.html)"
   ]
  },
  {
   "cell_type": "markdown",
   "id": "9c9c78a7",
   "metadata": {
    "slideshow": {
     "slide_type": "fragment"
    }
   },
   "source": [
    "When to use Numba?\n",
    "\n",
    "* Loops!!!\n",
    "* Can facilitate parallelization (we won't talk about this today)\n",
    "* GPU code generation (we won't talk about this today)\n",
    "* Did we say loops yet?"
   ]
  },
  {
   "cell_type": "markdown",
   "id": "ebdd08eb",
   "metadata": {
    "slideshow": {
     "slide_type": "subslide"
    }
   },
   "source": [
    "### Example\n",
    "\n",
    "Let's begin with the example we described above by writing a function that approximates pi."
   ]
  },
  {
   "cell_type": "code",
   "execution_count": null,
   "id": "8a80f539",
   "metadata": {
    "slideshow": {
     "slide_type": "-"
    }
   },
   "outputs": [],
   "source": [
    "def calculate_pi(n=1_000_000):\n",
    "    \"\"\"\n",
    "    Approximates pi by drawing two random numbers and\n",
    "    determining whether the of the sum of their squares\n",
    "    is less than one (which tells us if the points are\n",
    "    in the upper-right quadrant of the unit circle). The\n",
    "    fraction of draws in the upper-quadrant approximates\n",
    "    the area which we can then multiply by 4 to get the\n",
    "    area of the circle (which is pi since r=1)\n",
    "    \"\"\"\n",
    "    in_circ = 0\n",
    "\n",
    "    # Iterate for many samples\n",
    "    for i in range(n):\n",
    "        # Draw random numbers\n",
    "        x = np.random.random()\n",
    "        y = np.random.random()\n",
    "\n",
    "        if (x**2 + y**2) < 1:\n",
    "            in_circ += 1\n",
    "\n",
    "    return 4 * (in_circ / n)\n"
   ]
  },
  {
   "cell_type": "code",
   "execution_count": null,
   "id": "a10bd616",
   "metadata": {
    "slideshow": {
     "slide_type": "fragment"
    }
   },
   "outputs": [],
   "source": [
    "%%time\n",
    "\n",
    "# Vanilla Python function\n",
    "calculate_pi(5_000_000)"
   ]
  },
  {
   "cell_type": "code",
   "execution_count": null,
   "id": "1e0bd921",
   "metadata": {
    "slideshow": {
     "slide_type": "fragment"
    }
   },
   "outputs": [],
   "source": [
    "%%time\n",
    "\n",
    "# JIT function\n",
    "calculate_pi_numba = numba.jit(calculate_pi)\n",
    "calculate_pi_numba(5_000_000)"
   ]
  },
  {
   "cell_type": "code",
   "execution_count": null,
   "id": "73c62532",
   "metadata": {
    "slideshow": {
     "slide_type": "fragment"
    }
   },
   "outputs": [],
   "source": [
    "%%time\n",
    "\n",
    "calculate_pi_numba(5_000_000)"
   ]
  },
  {
   "cell_type": "markdown",
   "id": "81421444",
   "metadata": {
    "slideshow": {
     "slide_type": "-"
    }
   },
   "source": [
    "Why was the second run faster?\n",
    "\n",
    "Remember the order than JIT works -- The first time it sees a particular function with given inputs, it has to compile the function"
   ]
  },
  {
   "cell_type": "markdown",
   "id": "a2077151",
   "metadata": {
    "slideshow": {
     "slide_type": "subslide"
    }
   },
   "source": [
    "### Pandas?\n",
    "\n",
    "Does Numba work with Pandas?"
   ]
  },
  {
   "cell_type": "code",
   "execution_count": null,
   "id": "9467142b",
   "metadata": {
    "slideshow": {
     "slide_type": "-"
    }
   },
   "outputs": [],
   "source": [
    "def fill_dataframe(n):\n",
    "    # Create empty dataframe\n",
    "    df = pd.DataFrame(index=np.arange(n), columns=[\"A\", \"B\"])\n",
    "\n",
    "    a0, b0 = 0.1, 0.2\n",
    "    for i in range(n):\n",
    "        df.at[i, \"A\"] = a0\n",
    "        df.at[i, \"B\"] = b0\n",
    "\n",
    "        # Chaotic\n",
    "        a0 = 4 * a0 * (1 - a0)\n",
    "        b0 = 4 * b0 * (1 - b0)\n",
    "\n",
    "    return df"
   ]
  },
  {
   "cell_type": "code",
   "execution_count": null,
   "id": "e20fb952",
   "metadata": {
    "slideshow": {
     "slide_type": "fragment"
    }
   },
   "outputs": [],
   "source": [
    "fill_dataframe(100)"
   ]
  },
  {
   "cell_type": "code",
   "execution_count": null,
   "id": "1de1783e",
   "metadata": {
    "slideshow": {
     "slide_type": "fragment"
    }
   },
   "outputs": [],
   "source": [
    "fill_dataframe_numba = numba.jit(fill_dataframe)\n",
    "\n",
    "fill_dataframe_numba(100)"
   ]
  },
  {
   "cell_type": "markdown",
   "id": "0b57f41f",
   "metadata": {
    "slideshow": {
     "slide_type": "-"
    }
   },
   "source": [
    "**Object mode vs no Python mode**\n",
    "\n",
    "* Object mode: Allows Numba to call out to the Python interpreter if it sees something that it doesn't recognize - The cost is that this is slow and requires Numba to make certain optimization sacrifices\n",
    "* No Python mode: If it sees an object that Numba doesn't recognize, it throws an error. This helps allow Numba make additional optimizations.\n",
    "\n",
    "Numba's default behavior used to be to compile things in \"object\" mode but, recently, they've decided to reverse the default behavior to be no Python mode because it was the main use case (and how they recommend people use it)."
   ]
  },
  {
   "cell_type": "markdown",
   "id": "72781cbc",
   "metadata": {
    "slideshow": {
     "slide_type": "subslide"
    }
   },
   "source": [
    "**Alternate way to fill the DataFrame**\n"
   ]
  },
  {
   "cell_type": "code",
   "execution_count": null,
   "id": "8851fa0a",
   "metadata": {
    "slideshow": {
     "slide_type": "-"
    }
   },
   "outputs": [],
   "source": [
    "@numba.jit(nopython=True)\n",
    "def simulate_chaos(n):\n",
    "    a = np.zeros(n)\n",
    "    b = np.zeros(n)\n",
    "    \n",
    "    a0, b0 = 0.1, 0.2\n",
    "    for i in range(n):\n",
    "        a[i] = a0\n",
    "        b[i] = b0\n",
    "\n",
    "        a0 = 4 * a0 * (1 - a0)\n",
    "        b0 = 4 * b0 * (1 - b0)\n",
    "    \n",
    "    return a, b\n",
    "\n",
    "\n",
    "def fill_dataframe2(n):\n",
    "    df = pd.DataFrame(index=np.arange(n), columns=[\"A\", \"B\"])\n",
    "\n",
    "    a, b = simulate_chaos(n)\n",
    "    df.loc[:, \"A\"] = a\n",
    "    df.loc[:, \"B\"] = b\n",
    "\n",
    "    return df"
   ]
  },
  {
   "cell_type": "code",
   "execution_count": null,
   "id": "5b57044c",
   "metadata": {
    "slideshow": {
     "slide_type": "fragment"
    }
   },
   "outputs": [],
   "source": [
    "%%time\n",
    "\n",
    "fill_dataframe(100_000)"
   ]
  },
  {
   "cell_type": "code",
   "execution_count": null,
   "id": "68fa9ffb",
   "metadata": {},
   "outputs": [],
   "source": [
    "%%time\n",
    "\n",
    "fill_dataframe_numba(100_000)"
   ]
  },
  {
   "cell_type": "code",
   "execution_count": null,
   "id": "b7cf06c2",
   "metadata": {
    "slideshow": {
     "slide_type": "-"
    }
   },
   "outputs": [],
   "source": [
    "%%time\n",
    "\n",
    "fill_dataframe2(100_000)"
   ]
  }
 ],
 "metadata": {
  "celltoolbar": "Slideshow",
  "kernelspec": {
   "display_name": "Python 3 (ipykernel)",
   "language": "python",
   "name": "python3"
  },
  "language_info": {
   "codemirror_mode": {
    "name": "ipython",
    "version": 3
   },
   "file_extension": ".py",
   "mimetype": "text/x-python",
   "name": "python",
   "nbconvert_exporter": "python",
   "pygments_lexer": "ipython3",
   "version": "3.9.7"
  }
 },
 "nbformat": 4,
 "nbformat_minor": 5
}
