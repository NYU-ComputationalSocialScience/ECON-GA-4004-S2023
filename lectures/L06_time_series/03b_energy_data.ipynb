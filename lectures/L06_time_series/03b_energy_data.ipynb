{
 "cells": [
  {
   "cell_type": "markdown",
   "id": "6b3e50c8",
   "metadata": {
    "slideshow": {
     "slide_type": "slide"
    }
   },
   "source": [
    "# Case Study: ARIMA Modeling for Energy Data\n",
    "\n",
    "In this notebook, we do a back of the envelope case study to see if we can accurately model energy demand\n",
    "\n",
    "Our goal will be to use the data from 2017 to 2020 and see whether we can accurately predict energy demand for _all_ of 2021!"
   ]
  },
  {
   "cell_type": "code",
   "execution_count": null,
   "id": "8f0c7c6f",
   "metadata": {
    "slideshow": {
     "slide_type": "-"
    }
   },
   "outputs": [],
   "source": [
    "import requests\n",
    "import zipfile\n",
    "\n",
    "from io import BytesIO\n",
    "\n",
    "import matplotlib.pyplot as plt\n",
    "import numba\n",
    "import numpy as np\n",
    "import pandas as pd\n",
    "\n",
    "from sklearn.linear_model import LinearRegression\n",
    "from statsmodels.graphics.tsaplots import plot_acf, plot_pacf\n",
    "from statsmodels.tsa.arima.model import ARIMA\n",
    "\n",
    "%matplotlib inline"
   ]
  },
  {
   "cell_type": "markdown",
   "id": "8dfedcdb",
   "metadata": {
    "slideshow": {
     "slide_type": "slide"
    }
   },
   "source": [
    "## Data\n",
    "\n",
    "We will return to our ERCOT load data.\n",
    "\n",
    "Recall that this data represents the hourly energy demand in various regions of Texas.\n",
    "\n",
    "We will aggregate it to daily totals and try to predict daily totals"
   ]
  },
  {
   "cell_type": "code",
   "execution_count": null,
   "id": "eb433f79",
   "metadata": {
    "slideshow": {
     "slide_type": "-"
    }
   },
   "outputs": [],
   "source": [
    "# Only run this code if you need to download the data\n",
    "# from bs4 import BeautifulSoup\n",
    "\n",
    "# base_url = \"https://www.ercot.com/gridinfo/load/load_hist\"\n",
    "\n",
    "# ercot_bs = BeautifulSoup(requests.get(base_url).text)\n",
    "\n",
    "# relevant_links = []\n",
    "# for link in ercot_bs.find_all(\"a\"):\n",
    "#     link_text = link.text.lower()\n",
    "\n",
    "#     if (\"hourly load data\" in link_text) and (\"archives\" not in link_text):\n",
    "#         href = link.attrs[\"href\"]\n",
    "\n",
    "#         year = href.split(\"/\")[5]\n",
    "#         if int(year) > 2017:\n",
    "#             relevant_links.append(href)\n",
    "\n",
    "# load_dfs = []\n",
    "# for link in relevant_links:\n",
    "#     res = requests.get(link)\n",
    "#     zf = zipfile.ZipFile(BytesIO(res.content))\n",
    "#     load_dfs.append(\n",
    "#         pd.read_excel(\n",
    "#             zf.read(zf.filelist[0].filename),\n",
    "#             engine=\"openpyxl\"\n",
    "#         ).rename(\n",
    "#             columns={\n",
    "#                 \"HourEnding\": \"dt\",\n",
    "#                 \"Hour Ending\": \"dt\"\n",
    "#             }\n",
    "#         )\n",
    "#     )\n",
    "\n",
    "# load = pd.concat(load_dfs)\n",
    "\n",
    "# # Convert hours from 1-24 to 0-23\n",
    "# for i in range(24):\n",
    "#     old, new = f\"{i+1:02}:00\", f\"{i:02}:00\"\n",
    "#     load[\"dt\"] = load[\"dt\"].str.replace(old, new)\n",
    "# load[\"dt\"] = pd.to_datetime(load[\"dt\"])\n",
    "# load = load.set_index(\"dt\").resample(\"D\").sum()\n",
    "\n",
    "# load.head()\n",
    "# load.to_parquet(\"load_2017_2022.parquet\")"
   ]
  },
  {
   "cell_type": "code",
   "execution_count": null,
   "id": "ac35fb13",
   "metadata": {
    "slideshow": {
     "slide_type": "-"
    }
   },
   "outputs": [],
   "source": [
    "load = pd.read_parquet(\"load_2017_2022.parquet\").loc[\"2017\":\"2020\"]\n",
    "\n",
    "load.head()"
   ]
  },
  {
   "cell_type": "code",
   "execution_count": null,
   "id": "98ed7b86",
   "metadata": {
    "slideshow": {
     "slide_type": "fragment"
    }
   },
   "outputs": [],
   "source": [
    "years = load.index.year.unique().values\n",
    "\n",
    "fig, ax = plt.subplots(years.size, figsize=(14, 8))\n",
    "for (iy, year) in enumerate(years):\n",
    "    bs = ((load.index.year == year))\n",
    "    ax[iy].plot(load.loc[bs, \"ERCOT\"])\n"
   ]
  },
  {
   "cell_type": "markdown",
   "id": "e0aea522",
   "metadata": {
    "slideshow": {
     "slide_type": "slide"
    }
   },
   "source": [
    "## Computing the trend\n",
    "\n",
    "We will assume a linear (in time) trend"
   ]
  },
  {
   "cell_type": "code",
   "execution_count": null,
   "id": "d8566b28",
   "metadata": {
    "slideshow": {
     "slide_type": "-"
    }
   },
   "outputs": [],
   "source": [
    "nobs = load.shape[0]\n",
    "trend_tvalues = np.arange(nobs)\n",
    "\n",
    "mod_trend = LinearRegression(fit_intercept=True)\n",
    "mod_trend.fit(trend_tvalues[:, None], load[\"ERCOT\"])\n",
    "\n",
    "load[\"ERCOT_trend\"] = mod_trend.predict(trend_tvalues[:, None])\n",
    "load[\"ERCOT_trend_removed\"] = load.eval(\"ERCOT - ERCOT_trend\")"
   ]
  },
  {
   "cell_type": "code",
   "execution_count": null,
   "id": "7adf3fea",
   "metadata": {
    "slideshow": {
     "slide_type": "-"
    }
   },
   "outputs": [],
   "source": [
    "fig, ax = plt.subplots(2, figsize=(10, 8), sharex=True)\n",
    "\n",
    "load.plot(y=\"ERCOT\", ax=ax[0], color=\"k\", legend=False)\n",
    "load.plot(y=\"ERCOT_trend\", ax=ax[0], color=\"DarkOrange\", linestyle=\"--\", legend=False)\n",
    "ax[0].set_title(\"ERCOT and ERCOT Trend\")\n",
    "\n",
    "load.plot(y=\"ERCOT_trend_removed\", ax=ax[1], legend=False)\n",
    "ax[1].set_title(\"Trend Removed\")\n",
    "\n",
    "fig.tight_layout()"
   ]
  },
  {
   "cell_type": "markdown",
   "id": "3090f921",
   "metadata": {
    "slideshow": {
     "slide_type": "slide"
    }
   },
   "source": [
    "## Computing seasonal elements\n",
    "\n",
    "For the monthly and day of week seasonality, we will use the seasonal fixed effects model"
   ]
  },
  {
   "cell_type": "markdown",
   "id": "e1032d47",
   "metadata": {
    "slideshow": {
     "slide_type": "subslide"
    }
   },
   "source": [
    "**Monthly seasonality**"
   ]
  },
  {
   "cell_type": "code",
   "execution_count": null,
   "id": "e1c3487e",
   "metadata": {
    "slideshow": {
     "slide_type": "-"
    }
   },
   "outputs": [],
   "source": [
    "# Get fixed effect values for each \"season\" of our choosing\n",
    "months = list(range(1, 13))\n",
    "month_cols = [f\"month_{i}\" for i in months]\n",
    "\n",
    "for month in month_cols:\n",
    "    _, i = month.split(\"_\")\n",
    "    i = int(i)\n",
    "    load[month] = (load.index.month == i).astype(int)\n"
   ]
  },
  {
   "cell_type": "code",
   "execution_count": null,
   "id": "ce7f4fd0",
   "metadata": {
    "slideshow": {
     "slide_type": "-"
    }
   },
   "outputs": [],
   "source": [
    "mod_seas_m = LinearRegression(fit_intercept=False)\n",
    "mod_seas_m.fit(load.loc[:, month_cols], load[\"ERCOT_trend_removed\"])\n",
    "\n",
    "load[\"ERCOT_mseasonal\"] = mod_seas_m.predict(load.loc[:, month_cols])\n",
    "load[\"ERCOT_trend_mseasonal\"] = load.eval(\"ERCOT_trend + ERCOT_mseasonal\")\n",
    "load[\"ERCOT_trend_mseasonal_removed\"] = load.eval(\"ERCOT_trend_removed - ERCOT_mseasonal\")"
   ]
  },
  {
   "cell_type": "code",
   "execution_count": null,
   "id": "2a5b9682",
   "metadata": {
    "slideshow": {
     "slide_type": "-"
    }
   },
   "outputs": [],
   "source": [
    "fig, ax = plt.subplots(2, figsize=(10, 8), sharex=True)\n",
    "\n",
    "load.plot(y=\"ERCOT\", ax=ax[0], color=\"k\", legend=False)\n",
    "load.plot(\n",
    "    y=\"ERCOT_trend_mseasonal\", ax=ax[0], color=\"DarkOrange\",\n",
    "    linestyle=\"--\", legend=False, linewidth=3\n",
    ")\n",
    "ax[0].set_title(\"ERCOT and ERCOT Seasonal\")\n",
    "\n",
    "load.plot(y=\"ERCOT_trend_mseasonal_removed\", ax=ax[1], legend=False)\n",
    "ax[1].set_title(\"Trend and Monthly Season Removed\")\n",
    "\n",
    "fig.tight_layout()"
   ]
  },
  {
   "cell_type": "markdown",
   "id": "930553c8",
   "metadata": {
    "slideshow": {
     "slide_type": "subslide"
    }
   },
   "source": [
    "**Daily seasonality**"
   ]
  },
  {
   "cell_type": "code",
   "execution_count": null,
   "id": "0f4c0efc",
   "metadata": {
    "slideshow": {
     "slide_type": "-"
    }
   },
   "outputs": [],
   "source": [
    "# Get fixed effect values for each \"season\" of our choosing\n",
    "dows = list(range(7))\n",
    "dow_cols = [f\"day_{i}\" for i in dows]\n",
    "\n",
    "for dow in dow_cols:\n",
    "    _, i = dow.split(\"_\")\n",
    "    i = int(i)\n",
    "\n",
    "    load[dow] = (load.index.dayofweek == i).astype(int)\n"
   ]
  },
  {
   "cell_type": "code",
   "execution_count": null,
   "id": "fd4b0e0a",
   "metadata": {
    "slideshow": {
     "slide_type": "-"
    }
   },
   "outputs": [],
   "source": [
    "mod_seas_d = LinearRegression(fit_intercept=False)\n",
    "mod_seas_d.fit(load.loc[:, dow_cols], load[\"ERCOT_trend_mseasonal_removed\"])\n",
    "\n",
    "load[\"ERCOT_dseasonal\"] = mod_seas_d.predict(load.loc[:, dow_cols])\n",
    "load[\"ERCOT_trend_mdseasonal\"] = load.eval(\"ERCOT_trend_mseasonal + ERCOT_dseasonal\")\n",
    "load[\"ERCOT_trend_mdseasonal_removed\"] = load.eval(\"ERCOT_trend_mseasonal_removed - ERCOT_dseasonal\")"
   ]
  },
  {
   "cell_type": "code",
   "execution_count": null,
   "id": "f526627b",
   "metadata": {
    "slideshow": {
     "slide_type": "-"
    }
   },
   "outputs": [],
   "source": [
    "fig, ax = plt.subplots(2, figsize=(10, 8), sharex=True)\n",
    "\n",
    "load.plot(y=\"ERCOT\", ax=ax[0], color=\"k\", legend=False)\n",
    "load.plot(y=\"ERCOT_trend_mdseasonal\", ax=ax[0], color=\"DarkOrange\", linestyle=\"--\", legend=False)\n",
    "ax[0].set_title(\"ERCOT and ERCOT Seasonal\")\n",
    "\n",
    "load.plot(y=\"ERCOT_trend_mdseasonal_removed\", ax=ax[1], legend=False)\n",
    "ax[1].set_title(\"Trend and Monthly Season Removed\")\n",
    "\n",
    "fig.tight_layout()"
   ]
  },
  {
   "cell_type": "markdown",
   "id": "3ab18314",
   "metadata": {},
   "source": [
    "## Fitting an ARMA model to remainder"
   ]
  },
  {
   "cell_type": "code",
   "execution_count": null,
   "id": "2f00fa91",
   "metadata": {},
   "outputs": [],
   "source": [
    "plot_acf(load.loc[:, \"ERCOT_trend_mdseasonal_removed\"]);"
   ]
  },
  {
   "cell_type": "code",
   "execution_count": null,
   "id": "0767473c",
   "metadata": {},
   "outputs": [],
   "source": [
    "plot_pacf(load.loc[:, \"ERCOT_trend_mdseasonal_removed\"]);"
   ]
  },
  {
   "cell_type": "code",
   "execution_count": null,
   "id": "bcce8e9f",
   "metadata": {},
   "outputs": [],
   "source": [
    "arma = ARIMA(load.loc[:, \"ERCOT_trend_mdseasonal_removed\"], order=(3, 0, 3))\n",
    "arma_res = arma.fit()\n",
    "\n",
    "print(arma_res.summary())"
   ]
  },
  {
   "cell_type": "markdown",
   "id": "2ecb8f1d",
   "metadata": {
    "slideshow": {
     "slide_type": "slide"
    }
   },
   "source": [
    "## Forecasting 2021"
   ]
  },
  {
   "cell_type": "code",
   "execution_count": null,
   "id": "7e92e78a",
   "metadata": {
    "slideshow": {
     "slide_type": "-"
    }
   },
   "outputs": [],
   "source": [
    "load_2021 = pd.read_parquet(\"load_2017_2022.parquet\").loc[\"2021\"]\n",
    "nobs_2021 = load_2021.shape[0]\n",
    "\n",
    "load_2021.head()"
   ]
  },
  {
   "cell_type": "markdown",
   "id": "db49295c",
   "metadata": {
    "slideshow": {
     "slide_type": "subslide"
    }
   },
   "source": [
    "**Predicting each component**"
   ]
  },
  {
   "cell_type": "code",
   "execution_count": null,
   "id": "c9361d00",
   "metadata": {
    "slideshow": {
     "slide_type": "fragment"
    }
   },
   "outputs": [],
   "source": [
    "arma_res_forecast = arma_res.get_forecast(nobs_2021)\n",
    "arma_forecast = arma_res_forecast.predicted_mean"
   ]
  },
  {
   "cell_type": "code",
   "execution_count": null,
   "id": "84f79f49",
   "metadata": {
    "slideshow": {
     "slide_type": "fragment"
    }
   },
   "outputs": [],
   "source": [
    "trend_tvalues_forecast = (trend_tvalues[-1] + 1) + np.arange(load_2021.shape[0])\n",
    "\n",
    "trend_forecast = mod_trend.predict(trend_tvalues_forecast[:, None])"
   ]
  },
  {
   "cell_type": "code",
   "execution_count": null,
   "id": "511d77aa",
   "metadata": {
    "slideshow": {
     "slide_type": "fragment"
    }
   },
   "outputs": [],
   "source": [
    "# Get fixed effect values for each month\n",
    "for month in month_cols:\n",
    "    _, i = month.split(\"_\")\n",
    "    i = int(i)\n",
    "\n",
    "    load_2021[month] = (load_2021.index.month == i).astype(int)\n",
    "\n",
    "month_forecast = mod_seas_m.predict(load_2021.loc[:, month_cols])"
   ]
  },
  {
   "cell_type": "code",
   "execution_count": null,
   "id": "17b4fe8b",
   "metadata": {},
   "outputs": [],
   "source": [
    "# Get fixed effect values for each day of week\n",
    "for dow in dow_cols:\n",
    "    _, i = dow.split(\"_\")\n",
    "    i = int(i)\n",
    "\n",
    "    load_2021[dow] = (load_2021.index.dayofweek == i).astype(int)\n",
    "\n",
    "dow_forecast = mod_seas_d.predict(load_2021.loc[:, dow_cols])"
   ]
  },
  {
   "cell_type": "code",
   "execution_count": null,
   "id": "7f6f4cb3",
   "metadata": {},
   "outputs": [],
   "source": [
    "load_2021[\"ERCOT_forecast\"] = trend_forecast + month_forecast + dow_forecast + arma_forecast\n",
    "\n",
    "fig, ax = plt.subplots(figsize=(10, 8))\n",
    "\n",
    "load_2021.plot(y=\"ERCOT\", ax=ax, color=\"k\")\n",
    "load_2021.plot(y=\"ERCOT_forecast\", ax=ax, color=\"DarkOrange\", linestyle=\"--\")\n",
    "\n",
    "ax.annotate(\"Realized Load\", xy=(18630, 1250000))\n",
    "ax.annotate(\"Forecasted Load\", xy=(18690, 1000000), color=\"DarkOrange\")\n",
    "\n",
    "ax.spines[\"right\"].set_visible(False)\n",
    "ax.spines[\"top\"].set_visible(False)"
   ]
  },
  {
   "cell_type": "code",
   "execution_count": null,
   "id": "56781250",
   "metadata": {},
   "outputs": [],
   "source": [
    "fig, ax = plt.subplots(figsize=(10, 8))\n",
    "\n",
    "load.loc[\"2020-01-01\":\"2020-04-15\", :].plot(\n",
    "    y=\"ERCOT\", ax=ax, color=\"k\", legend=False\n",
    ")\n",
    "load.loc[\"2020-01-01\":\"2020-04-15\", :].plot(\n",
    "    y=\"ERCOT_trend_mdseasonal\", ax=ax,\n",
    "    color=\"DarkOrange\", linestyle=\"--\", legend=False\n",
    ")\n",
    "\n",
    "ax.annotate(\"Realized Load\", xy=(18350, 1050000))\n",
    "ax.annotate(\"Forecasted Load\", xy=(18265, 1030000), color=\"DarkOrange\")\n",
    "\n",
    "ax.spines[\"right\"].set_visible(False)\n",
    "ax.spines[\"top\"].set_visible(False)"
   ]
  }
 ],
 "metadata": {
  "celltoolbar": "Slideshow",
  "kernelspec": {
   "display_name": "Python 3 (ipykernel)",
   "language": "python",
   "name": "python3"
  },
  "language_info": {
   "codemirror_mode": {
    "name": "ipython",
    "version": 3
   },
   "file_extension": ".py",
   "mimetype": "text/x-python",
   "name": "python",
   "nbconvert_exporter": "python",
   "pygments_lexer": "ipython3",
   "version": "3.9.7"
  }
 },
 "nbformat": 4,
 "nbformat_minor": 5
}
